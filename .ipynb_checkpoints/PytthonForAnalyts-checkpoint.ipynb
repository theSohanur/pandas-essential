{
 "cells": [
  {
   "cell_type": "markdown",
   "metadata": {},
   "source": [
    "## Build in function"
   ]
  },
  {
   "cell_type": "code",
   "execution_count": 1,
   "metadata": {},
   "outputs": [
    {
     "name": "stdout",
     "output_type": "stream",
     "text": [
      "Hello , How are You? \n"
     ]
    }
   ],
   "source": [
    "print('Hello , How are You? ')"
   ]
  },
  {
   "cell_type": "code",
   "execution_count": 3,
   "metadata": {},
   "outputs": [
    {
     "name": "stdout",
     "output_type": "stream",
     "text": [
      "Hello ,\n",
      " How are You? \n"
     ]
    }
   ],
   "source": [
    "print('Hello ,\\n How are You? ')"
   ]
  },
  {
   "cell_type": "code",
   "execution_count": 6,
   "metadata": {},
   "outputs": [
    {
     "name": "stdout",
     "output_type": "stream",
     "text": [
      "Hello|How are You? \n"
     ]
    }
   ],
   "source": [
    "print('Hello', 'How are You? ',sep='|')"
   ]
  },
  {
   "cell_type": "code",
   "execution_count": 7,
   "metadata": {},
   "outputs": [
    {
     "data": {
      "text/plain": [
       "3"
      ]
     },
     "execution_count": 7,
     "metadata": {},
     "output_type": "execute_result"
    }
   ],
   "source": [
    "len('abc')"
   ]
  },
  {
   "cell_type": "code",
   "execution_count": 8,
   "metadata": {},
   "outputs": [
    {
     "ename": "TypeError",
     "evalue": "object of type 'bool' has no len()",
     "output_type": "error",
     "traceback": [
      "\u001b[1;31m---------------------------------------------------------------------------\u001b[0m",
      "\u001b[1;31mTypeError\u001b[0m                                 Traceback (most recent call last)",
      "\u001b[1;32m<ipython-input-8-8c3be77e04f4>\u001b[0m in \u001b[0;36m<module>\u001b[1;34m\u001b[0m\n\u001b[1;32m----> 1\u001b[1;33m \u001b[0mlen\u001b[0m\u001b[1;33m(\u001b[0m\u001b[1;32mTrue\u001b[0m\u001b[1;33m)\u001b[0m\u001b[1;33m\u001b[0m\u001b[1;33m\u001b[0m\u001b[0m\n\u001b[0m",
      "\u001b[1;31mTypeError\u001b[0m: object of type 'bool' has no len()"
     ]
    }
   ],
   "source": [
    "len(True) # len function always use List and touple"
   ]
  },
  {
   "cell_type": "code",
   "execution_count": 9,
   "metadata": {},
   "outputs": [
    {
     "data": {
      "text/plain": [
       "-4"
      ]
     },
     "execution_count": 9,
     "metadata": {},
     "output_type": "execute_result"
    }
   ],
   "source": [
    "min(1,23,45,-4,23)"
   ]
  },
  {
   "cell_type": "code",
   "execution_count": 12,
   "metadata": {},
   "outputs": [
    {
     "data": {
      "text/plain": [
       "454.45"
      ]
     },
     "execution_count": 12,
     "metadata": {},
     "output_type": "execute_result"
    }
   ],
   "source": [
    "max(34,454.45,234.4,234,12,1)"
   ]
  },
  {
   "cell_type": "code",
   "execution_count": 13,
   "metadata": {},
   "outputs": [
    {
     "data": {
      "text/plain": [
       "34"
      ]
     },
     "execution_count": 13,
     "metadata": {},
     "output_type": "execute_result"
    }
   ],
   "source": [
    "abs(-34)"
   ]
  },
  {
   "cell_type": "code",
   "execution_count": 14,
   "metadata": {},
   "outputs": [
    {
     "data": {
      "text/plain": [
       "101"
      ]
     },
     "execution_count": 14,
     "metadata": {},
     "output_type": "execute_result"
    }
   ],
   "source": [
    "round(100.6)"
   ]
  },
  {
   "cell_type": "code",
   "execution_count": 16,
   "metadata": {},
   "outputs": [
    {
     "data": {
      "text/plain": [
       "100"
      ]
     },
     "execution_count": 16,
     "metadata": {},
     "output_type": "execute_result"
    }
   ],
   "source": [
    "round(100.3)"
   ]
  },
  {
   "cell_type": "code",
   "execution_count": 17,
   "metadata": {},
   "outputs": [
    {
     "data": {
      "text/plain": [
       "['e', 'h', 'l', 'l', 'o']"
      ]
     },
     "execution_count": 17,
     "metadata": {},
     "output_type": "execute_result"
    }
   ],
   "source": [
    "sorted('hello')"
   ]
  },
  {
   "cell_type": "code",
   "execution_count": 19,
   "metadata": {},
   "outputs": [
    {
     "data": {
      "text/plain": [
       "['P', 'h', 'n', 'o', 't', 'y']"
      ]
     },
     "execution_count": 19,
     "metadata": {},
     "output_type": "execute_result"
    }
   ],
   "source": [
    "sorted('Python')"
   ]
  },
  {
   "cell_type": "code",
   "execution_count": 20,
   "metadata": {},
   "outputs": [
    {
     "data": {
      "text/plain": [
       "['f', 'e', 'd', 'c', 'b', 'a']"
      ]
     },
     "execution_count": 20,
     "metadata": {},
     "output_type": "execute_result"
    }
   ],
   "source": [
    "sorted('abcdef',reverse=True)"
   ]
  },
  {
   "cell_type": "code",
   "execution_count": 22,
   "metadata": {},
   "outputs": [
    {
     "data": {
      "text/plain": [
       "'HELLO ,HOW ARE YOU?'"
      ]
     },
     "execution_count": 22,
     "metadata": {},
     "output_type": "execute_result"
    }
   ],
   "source": [
    "string_var = 'HELLO ,HOW ARE YOU?'\n",
    "string_var"
   ]
  },
  {
   "cell_type": "code",
   "execution_count": 24,
   "metadata": {},
   "outputs": [],
   "source": [
    "lower_str = string_var.lower()"
   ]
  },
  {
   "cell_type": "code",
   "execution_count": 25,
   "metadata": {},
   "outputs": [
    {
     "data": {
      "text/plain": [
       "'hello ,how are you?'"
      ]
     },
     "execution_count": 25,
     "metadata": {},
     "output_type": "execute_result"
    }
   ],
   "source": [
    "lower_str"
   ]
  },
  {
   "cell_type": "code",
   "execution_count": 26,
   "metadata": {},
   "outputs": [
    {
     "data": {
      "text/plain": [
       "'HELLO ,HOW ARE YOU?'"
      ]
     },
     "execution_count": 26,
     "metadata": {},
     "output_type": "execute_result"
    }
   ],
   "source": [
    "lower_str.upper()"
   ]
  },
  {
   "cell_type": "code",
   "execution_count": 27,
   "metadata": {},
   "outputs": [],
   "source": [
    "capitalized_str = lower_str.capitalize()"
   ]
  },
  {
   "cell_type": "code",
   "execution_count": 28,
   "metadata": {},
   "outputs": [
    {
     "data": {
      "text/plain": [
       "'Hello ,how are you?'"
      ]
     },
     "execution_count": 28,
     "metadata": {},
     "output_type": "execute_result"
    }
   ],
   "source": [
    "capitalized_str"
   ]
  },
  {
   "cell_type": "markdown",
   "metadata": {},
   "source": [
    "### List"
   ]
  },
  {
   "cell_type": "code",
   "execution_count": 29,
   "metadata": {},
   "outputs": [],
   "source": [
    "empty_list = []"
   ]
  },
  {
   "cell_type": "code",
   "execution_count": 30,
   "metadata": {},
   "outputs": [
    {
     "data": {
      "text/plain": [
       "list"
      ]
     },
     "execution_count": 30,
     "metadata": {},
     "output_type": "execute_result"
    }
   ],
   "source": [
    "type(empty_list)"
   ]
  },
  {
   "cell_type": "code",
   "execution_count": 32,
   "metadata": {},
   "outputs": [
    {
     "data": {
      "text/plain": [
       "[2, 3, 5, 6, 1]"
      ]
     },
     "execution_count": 32,
     "metadata": {},
     "output_type": "execute_result"
    }
   ],
   "source": [
    "int_list = [2,3,5,6,1]\n",
    "int_list"
   ]
  },
  {
   "cell_type": "code",
   "execution_count": 34,
   "metadata": {},
   "outputs": [
    {
     "data": {
      "text/plain": [
       "['Hello', 'Python', 'World']"
      ]
     },
     "execution_count": 34,
     "metadata": {},
     "output_type": "execute_result"
    }
   ],
   "source": [
    "string_list = ['Hello','Python','World']\n",
    "string_list"
   ]
  },
  {
   "cell_type": "code",
   "execution_count": 36,
   "metadata": {},
   "outputs": [
    {
     "data": {
      "text/plain": [
       "[3, 'Hello', True, 2.554]"
      ]
     },
     "execution_count": 36,
     "metadata": {},
     "output_type": "execute_result"
    }
   ],
   "source": [
    "mixed_list = [3,'Hello', True,2.554]\n",
    "mixed_list"
   ]
  },
  {
   "cell_type": "code",
   "execution_count": 37,
   "metadata": {},
   "outputs": [
    {
     "data": {
      "text/plain": [
       "['Boeing 707', 'Boeing 807', 'Boeing 902', 'Boeing 332', 'Boeing 121']"
      ]
     },
     "execution_count": 37,
     "metadata": {},
     "output_type": "execute_result"
    }
   ],
   "source": [
    "boeing_planes = ['Boeing 707','Boeing 807','Boeing 902','Boeing 332','Boeing 121']\n",
    "boeing_planes"
   ]
  },
  {
   "cell_type": "code",
   "execution_count": 40,
   "metadata": {},
   "outputs": [
    {
     "data": {
      "text/plain": [
       "'Boeing 121'"
      ]
     },
     "execution_count": 40,
     "metadata": {},
     "output_type": "execute_result"
    }
   ],
   "source": [
    "last_index = boeing_planes[len(boeing_planes)-1]\n",
    "last_index"
   ]
  },
  {
   "cell_type": "code",
   "execution_count": 41,
   "metadata": {},
   "outputs": [
    {
     "data": {
      "text/plain": [
       "'Boeing 121'"
      ]
     },
     "execution_count": 41,
     "metadata": {},
     "output_type": "execute_result"
    }
   ],
   "source": [
    "boeing_planes[-1] # last index"
   ]
  },
  {
   "cell_type": "code",
   "execution_count": 42,
   "metadata": {},
   "outputs": [
    {
     "data": {
      "text/plain": [
       "['Boeing 707', 'Boeing 807', 'Boeing 902']"
      ]
     },
     "execution_count": 42,
     "metadata": {},
     "output_type": "execute_result"
    }
   ],
   "source": [
    "boeing_planes[0:3] # slicing [start:end:step]"
   ]
  },
  {
   "cell_type": "code",
   "execution_count": 44,
   "metadata": {},
   "outputs": [
    {
     "data": {
      "text/plain": [
       "['Boeing 807', 'Boeing 332']"
      ]
     },
     "execution_count": 44,
     "metadata": {},
     "output_type": "execute_result"
    }
   ],
   "source": [
    "boeing_planes[1:4:2]"
   ]
  },
  {
   "cell_type": "code",
   "execution_count": 55,
   "metadata": {},
   "outputs": [
    {
     "data": {
      "text/plain": [
       "['Boeing 707', 'Boeing 902']"
      ]
     },
     "execution_count": 55,
     "metadata": {},
     "output_type": "execute_result"
    }
   ],
   "source": [
    "boeing_planes[0:-1:2]"
   ]
  },
  {
   "cell_type": "code",
   "execution_count": 65,
   "metadata": {},
   "outputs": [
    {
     "data": {
      "text/plain": [
       "4"
      ]
     },
     "execution_count": 65,
     "metadata": {},
     "output_type": "execute_result"
    }
   ],
   "source": [
    "boeing_planes.index('Boeing 807')"
   ]
  },
  {
   "cell_type": "code",
   "execution_count": 62,
   "metadata": {},
   "outputs": [
    {
     "data": {
      "text/plain": [
       "['Boeing 707',\n",
       " 'Boeing 111',\n",
       " 'Boeing 111',\n",
       " 'Boeing 111',\n",
       " 'Boeing 807',\n",
       " 'Boeing 902',\n",
       " 'Boeing 332',\n",
       " 'Boeing 121']"
      ]
     },
     "execution_count": 62,
     "metadata": {},
     "output_type": "execute_result"
    }
   ],
   "source": [
    "boeing_planes.insert(1,'Boeing 111') #  inserting \n",
    "boeing_planes"
   ]
  },
  {
   "cell_type": "code",
   "execution_count": 66,
   "metadata": {},
   "outputs": [],
   "source": [
    "boeing_planes.sort()"
   ]
  },
  {
   "cell_type": "code",
   "execution_count": 67,
   "metadata": {},
   "outputs": [
    {
     "data": {
      "text/plain": [
       "['Boeing 111',\n",
       " 'Boeing 111',\n",
       " 'Boeing 111',\n",
       " 'Boeing 121',\n",
       " 'Boeing 332',\n",
       " 'Boeing 707',\n",
       " 'Boeing 807',\n",
       " 'Boeing 902']"
      ]
     },
     "execution_count": 67,
     "metadata": {},
     "output_type": "execute_result"
    }
   ],
   "source": [
    "boeing_planes"
   ]
  },
  {
   "cell_type": "code",
   "execution_count": 68,
   "metadata": {},
   "outputs": [],
   "source": [
    "boeing_planes_copy = boeing_planes.copy()"
   ]
  },
  {
   "cell_type": "code",
   "execution_count": 69,
   "metadata": {},
   "outputs": [
    {
     "data": {
      "text/plain": [
       "['Boeing 111',\n",
       " 'Boeing 111',\n",
       " 'Boeing 111',\n",
       " 'Boeing 121',\n",
       " 'Boeing 332',\n",
       " 'Boeing 707',\n",
       " 'Boeing 807',\n",
       " 'Boeing 902']"
      ]
     },
     "execution_count": 69,
     "metadata": {},
     "output_type": "execute_result"
    }
   ],
   "source": [
    "boeing_planes_copy"
   ]
  },
  {
   "cell_type": "code",
   "execution_count": 71,
   "metadata": {},
   "outputs": [],
   "source": [
    "boeing_planes.remove('Boeing 111')"
   ]
  },
  {
   "cell_type": "code",
   "execution_count": 72,
   "metadata": {},
   "outputs": [
    {
     "data": {
      "text/plain": [
       "['Boeing 111',\n",
       " 'Boeing 111',\n",
       " 'Boeing 121',\n",
       " 'Boeing 332',\n",
       " 'Boeing 707',\n",
       " 'Boeing 807',\n",
       " 'Boeing 902']"
      ]
     },
     "execution_count": 72,
     "metadata": {},
     "output_type": "execute_result"
    }
   ],
   "source": [
    "boeing_planes"
   ]
  },
  {
   "cell_type": "code",
   "execution_count": 73,
   "metadata": {},
   "outputs": [
    {
     "data": {
      "text/plain": [
       "['Boeing 111',\n",
       " 'Boeing 111',\n",
       " 'Boeing 111',\n",
       " 'Boeing 121',\n",
       " 'Boeing 332',\n",
       " 'Boeing 707',\n",
       " 'Boeing 807',\n",
       " 'Boeing 902']"
      ]
     },
     "execution_count": 73,
     "metadata": {},
     "output_type": "execute_result"
    }
   ],
   "source": [
    "boeing_planes_copy"
   ]
  },
  {
   "cell_type": "code",
   "execution_count": null,
   "metadata": {},
   "outputs": [],
   "source": []
  },
  {
   "cell_type": "code",
   "execution_count": null,
   "metadata": {},
   "outputs": [],
   "source": []
  },
  {
   "cell_type": "code",
   "execution_count": null,
   "metadata": {},
   "outputs": [],
   "source": []
  },
  {
   "cell_type": "code",
   "execution_count": null,
   "metadata": {},
   "outputs": [],
   "source": []
  },
  {
   "cell_type": "code",
   "execution_count": null,
   "metadata": {},
   "outputs": [],
   "source": []
  },
  {
   "cell_type": "code",
   "execution_count": null,
   "metadata": {},
   "outputs": [],
   "source": []
  },
  {
   "cell_type": "code",
   "execution_count": null,
   "metadata": {},
   "outputs": [],
   "source": []
  },
  {
   "cell_type": "code",
   "execution_count": 89,
   "metadata": {},
   "outputs": [
    {
     "name": "stdout",
     "output_type": "stream",
     "text": [
      "D\n"
     ]
    }
   ],
   "source": [
    "name = 'D'\n",
    "for letter in name:\n",
    "    print(letter)"
   ]
  },
  {
   "cell_type": "code",
   "execution_count": 96,
   "metadata": {},
   "outputs": [
    {
     "name": "stdout",
     "output_type": "stream",
     "text": [
      "nested 3\n",
      "nested 3\n",
      "nested 2\n",
      "nested 3\n",
      "nested 3\n",
      "nested 2\n",
      "nested 1\n"
     ]
    }
   ],
   "source": [
    "for item in range(1):\n",
    "    for letter in range(2):\n",
    "        for i in range(2):\n",
    "            print('nested 3')\n",
    "        print('nested 2')\n",
    "    print('nested 1')"
   ]
  },
  {
   "cell_type": "code",
   "execution_count": 98,
   "metadata": {},
   "outputs": [
    {
     "name": "stdout",
     "output_type": "stream",
     "text": [
      "1 \n",
      "2 2 \n",
      "3 3 3 \n",
      "4 4 4 4 \n",
      "5 5 5 5 5 \n"
     ]
    }
   ],
   "source": [
    "lastNumber = 6\n",
    "for row in range(1, lastNumber):\n",
    "    for column in range(1, row + 1):\n",
    "        print(row, end=' ')\n",
    "    print(\"\")"
   ]
  },
  {
   "cell_type": "code",
   "execution_count": 105,
   "metadata": {},
   "outputs": [
    {
     "name": "stdout",
     "output_type": "stream",
     "text": [
      "10 * 1 = 10\n",
      "10 * 2 = 20\n",
      "10 * 3 = 30\n",
      "10 * 4 = 40\n",
      "10 * 5 = 50\n",
      "10 * 6 = 60\n",
      "10 * 7 = 70\n",
      "10 * 8 = 80\n",
      "10 * 9 = 90\n",
      "10 * 10 = 100\n"
     ]
    }
   ],
   "source": [
    "for i in range(1,11):\n",
    "   print(10,'*',i,'=',10*i)"
   ]
  },
  {
   "cell_type": "code",
   "execution_count": 106,
   "metadata": {},
   "outputs": [
    {
     "name": "stdout",
     "output_type": "stream",
     "text": [
      "['d', 'a', 't', 'a', 't', 'i', 'm', 'e']\n"
     ]
    }
   ],
   "source": [
    "empty_list = []\n",
    "\n",
    "for letter in 'datatime':\n",
    "    empty_list.append(letter)\n",
    "\n",
    "print(empty_list)"
   ]
  },
  {
   "cell_type": "code",
   "execution_count": 110,
   "metadata": {},
   "outputs": [],
   "source": [
    "import matplotlib.pyplot as plt"
   ]
  },
  {
   "cell_type": "code",
   "execution_count": 111,
   "metadata": {},
   "outputs": [
    {
     "name": "stdout",
     "output_type": "stream",
     "text": [
      "Help on function hist in module matplotlib.pyplot:\n",
      "\n",
      "hist(x, bins=None, range=None, density=False, weights=None, cumulative=False, bottom=None, histtype='bar', align='mid', orientation='vertical', rwidth=None, log=False, color=None, label=None, stacked=False, *, data=None, **kwargs)\n",
      "    Plot a histogram.\n",
      "    \n",
      "    Compute and draw the histogram of *x*.  The return value is a tuple\n",
      "    (*n*, *bins*, *patches*) or ([*n0*, *n1*, ...], *bins*, [*patches0*,\n",
      "    *patches1*, ...]) if the input contains multiple data.  See the\n",
      "    documentation of the *weights* parameter to draw a histogram of\n",
      "    already-binned data.\n",
      "    \n",
      "    Multiple data can be provided via *x* as a list of datasets\n",
      "    of potentially different length ([*x0*, *x1*, ...]), or as\n",
      "    a 2-D ndarray in which each column is a dataset.  Note that\n",
      "    the ndarray form is transposed relative to the list form.\n",
      "    \n",
      "    Masked arrays are not supported.\n",
      "    \n",
      "    The *bins*, *range*, *weights*, and *density* parameters behave as in\n",
      "    `numpy.histogram`.\n",
      "    \n",
      "    Parameters\n",
      "    ----------\n",
      "    x : (n,) array or sequence of (n,) arrays\n",
      "        Input values, this takes either a single array or a sequence of\n",
      "        arrays which are not required to be of the same length.\n",
      "    \n",
      "    bins : int or sequence or str, default: :rc:`hist.bins`\n",
      "        If *bins* is an integer, it defines the number of equal-width bins\n",
      "        in the range.\n",
      "    \n",
      "        If *bins* is a sequence, it defines the bin edges, including the\n",
      "        left edge of the first bin and the right edge of the last bin;\n",
      "        in this case, bins may be unequally spaced.  All but the last\n",
      "        (righthand-most) bin is half-open.  In other words, if *bins* is::\n",
      "    \n",
      "            [1, 2, 3, 4]\n",
      "    \n",
      "        then the first bin is ``[1, 2)`` (including 1, but excluding 2) and\n",
      "        the second ``[2, 3)``.  The last bin, however, is ``[3, 4]``, which\n",
      "        *includes* 4.\n",
      "    \n",
      "        If *bins* is a string, it is one of the binning strategies\n",
      "        supported by `numpy.histogram_bin_edges`: 'auto', 'fd', 'doane',\n",
      "        'scott', 'stone', 'rice', 'sturges', or 'sqrt'.\n",
      "    \n",
      "    range : tuple or None, default: None\n",
      "        The lower and upper range of the bins. Lower and upper outliers\n",
      "        are ignored. If not provided, *range* is ``(x.min(), x.max())``.\n",
      "        Range has no effect if *bins* is a sequence.\n",
      "    \n",
      "        If *bins* is a sequence or *range* is specified, autoscaling\n",
      "        is based on the specified bin range instead of the\n",
      "        range of x.\n",
      "    \n",
      "    density : bool, default: False\n",
      "        If ``True``, draw and return a probability density: each bin\n",
      "        will display the bin's raw count divided by the total number of\n",
      "        counts *and the bin width*\n",
      "        (``density = counts / (sum(counts) * np.diff(bins))``),\n",
      "        so that the area under the histogram integrates to 1\n",
      "        (``np.sum(density * np.diff(bins)) == 1``).\n",
      "    \n",
      "        If *stacked* is also ``True``, the sum of the histograms is\n",
      "        normalized to 1.\n",
      "    \n",
      "    weights : (n,) array-like or None, default: None\n",
      "        An array of weights, of the same shape as *x*.  Each value in\n",
      "        *x* only contributes its associated weight towards the bin count\n",
      "        (instead of 1).  If *density* is ``True``, the weights are\n",
      "        normalized, so that the integral of the density over the range\n",
      "        remains 1.\n",
      "    \n",
      "        This parameter can be used to draw a histogram of data that has\n",
      "        already been binned, e.g. using `numpy.histogram` (by treating each\n",
      "        bin as a single point with a weight equal to its count) ::\n",
      "    \n",
      "            counts, bins = np.histogram(data)\n",
      "            plt.hist(bins[:-1], bins, weights=counts)\n",
      "    \n",
      "        (or you may alternatively use `~.bar()`).\n",
      "    \n",
      "    cumulative : bool or -1, default: False\n",
      "        If ``True``, then a histogram is computed where each bin gives the\n",
      "        counts in that bin plus all bins for smaller values. The last bin\n",
      "        gives the total number of datapoints.\n",
      "    \n",
      "        If *density* is also ``True`` then the histogram is normalized such\n",
      "        that the last bin equals 1.\n",
      "    \n",
      "        If *cumulative* is a number less than 0 (e.g., -1), the direction\n",
      "        of accumulation is reversed.  In this case, if *density* is also\n",
      "        ``True``, then the histogram is normalized such that the first bin\n",
      "        equals 1.\n",
      "    \n",
      "    bottom : array-like, scalar, or None, default: None\n",
      "        Location of the bottom of each bin, ie. bins are drawn from\n",
      "        ``bottom`` to ``bottom + hist(x, bins)`` If a scalar, the bottom\n",
      "        of each bin is shifted by the same amount. If an array, each bin\n",
      "        is shifted independently and the length of bottom must match the\n",
      "        number of bins. If None, defaults to 0.\n",
      "    \n",
      "    histtype : {'bar', 'barstacked', 'step', 'stepfilled'}, default: 'bar'\n",
      "        The type of histogram to draw.\n",
      "    \n",
      "        - 'bar' is a traditional bar-type histogram.  If multiple data\n",
      "          are given the bars are arranged side by side.\n",
      "        - 'barstacked' is a bar-type histogram where multiple\n",
      "          data are stacked on top of each other.\n",
      "        - 'step' generates a lineplot that is by default unfilled.\n",
      "        - 'stepfilled' generates a lineplot that is by default filled.\n",
      "    \n",
      "    align : {'left', 'mid', 'right'}, default: 'mid'\n",
      "        The horizontal alignment of the histogram bars.\n",
      "    \n",
      "        - 'left': bars are centered on the left bin edges.\n",
      "        - 'mid': bars are centered between the bin edges.\n",
      "        - 'right': bars are centered on the right bin edges.\n",
      "    \n",
      "    orientation : {'vertical', 'horizontal'}, default: 'vertical'\n",
      "        If 'horizontal', `~.Axes.barh` will be used for bar-type histograms\n",
      "        and the *bottom* kwarg will be the left edges.\n",
      "    \n",
      "    rwidth : float or None, default: None\n",
      "        The relative width of the bars as a fraction of the bin width.  If\n",
      "        ``None``, automatically compute the width.\n",
      "    \n",
      "        Ignored if *histtype* is 'step' or 'stepfilled'.\n",
      "    \n",
      "    log : bool, default: False\n",
      "        If ``True``, the histogram axis will be set to a log scale. If\n",
      "        *log* is ``True`` and *x* is a 1D array, empty bins will be\n",
      "        filtered out and only the non-empty ``(n, bins, patches)``\n",
      "        will be returned.\n",
      "    \n",
      "    color : color or array-like of colors or None, default: None\n",
      "        Color or sequence of colors, one per dataset.  Default (``None``)\n",
      "        uses the standard line color sequence.\n",
      "    \n",
      "    label : str or None, default: None\n",
      "        String, or sequence of strings to match multiple datasets.  Bar\n",
      "        charts yield multiple patches per dataset, but only the first gets\n",
      "        the label, so that `~.Axes.legend` will work as expected.\n",
      "    \n",
      "    stacked : bool, default: False\n",
      "        If ``True``, multiple data are stacked on top of each other If\n",
      "        ``False`` multiple data are arranged side by side if histtype is\n",
      "        'bar' or on top of each other if histtype is 'step'\n",
      "    \n",
      "    Returns\n",
      "    -------\n",
      "    n : array or list of arrays\n",
      "        The values of the histogram bins. See *density* and *weights* for a\n",
      "        description of the possible semantics.  If input *x* is an array,\n",
      "        then this is an array of length *nbins*. If input is a sequence of\n",
      "        arrays ``[data1, data2, ...]``, then this is a list of arrays with\n",
      "        the values of the histograms for each of the arrays in the same\n",
      "        order.  The dtype of the array *n* (or of its element arrays) will\n",
      "        always be float even if no weighting or normalization is used.\n",
      "    \n",
      "    bins : array\n",
      "        The edges of the bins. Length nbins + 1 (nbins left edges and right\n",
      "        edge of last bin).  Always a single array even when multiple data\n",
      "        sets are passed in.\n",
      "    \n",
      "    patches : `.BarContainer` or list of a single `.Polygon` or list of such objects\n",
      "        Container of individual artists used to create the histogram\n",
      "        or list of such containers if there are multiple input datasets.\n",
      "    \n",
      "    Other Parameters\n",
      "    ----------------\n",
      "    **kwargs\n",
      "        `~matplotlib.patches.Patch` properties\n",
      "    \n",
      "    See Also\n",
      "    --------\n",
      "    hist2d : 2D histograms\n",
      "    \n",
      "    Notes\n",
      "    -----\n",
      "    For large numbers of bins (>1000), 'step' and 'stepfilled' can be\n",
      "    significantly faster than 'bar' and 'barstacked'.\n",
      "    \n",
      "    .. note::\n",
      "        In addition to the above described arguments, this function can take\n",
      "        a *data* keyword argument. If such a *data* argument is given,\n",
      "        the following arguments can also be string ``s``, which is\n",
      "        interpreted as ``data[s]`` (unless this raises an exception):\n",
      "        *x*, *weights*.\n",
      "    \n",
      "        Objects passed as **data** must support item access (``data[s]``) and\n",
      "        membership test (``s in data``).\n",
      "\n"
     ]
    }
   ],
   "source": [
    "help(plt.hist)"
   ]
  },
  {
   "cell_type": "code",
   "execution_count": null,
   "metadata": {},
   "outputs": [],
   "source": [
    "plt.hist()"
   ]
  },
  {
   "cell_type": "code",
   "execution_count": null,
   "metadata": {},
   "outputs": [],
   "source": [
    "plt."
   ]
  },
  {
   "cell_type": "markdown",
   "metadata": {},
   "source": [
    "# Practice with API(Application Programming Interface)"
   ]
  },
  {
   "cell_type": "code",
   "execution_count": 7,
   "metadata": {},
   "outputs": [],
   "source": [
    "base_url = 'http://api.exchangeratesapi.io/v1/latest?access_key=74139e65fde5b94c27e4381b90ae388f'\n",
    "# base_url = 'http://api.exchangeratesapi.io/v1/latest?access_key=b5311217c411d6ee4c79ba55e9d77988&format=1'"
   ]
  },
  {
   "cell_type": "markdown",
   "metadata": {},
   "source": [
    "### Sending a GET request"
   ]
  },
  {
   "cell_type": "code",
   "execution_count": 8,
   "metadata": {},
   "outputs": [],
   "source": [
    "import requests"
   ]
  },
  {
   "cell_type": "code",
   "execution_count": 9,
   "metadata": {},
   "outputs": [],
   "source": [
    "response = requests.get(base_url)"
   ]
  },
  {
   "cell_type": "code",
   "execution_count": 15,
   "metadata": {},
   "outputs": [],
   "source": [
    "ur = 'https://jsonplaceholder.typicode.com/todos'\n",
    "res = requests.get(ur)"
   ]
  },
  {
   "cell_type": "code",
   "execution_count": 16,
   "metadata": {
    "scrolled": true
   },
   "outputs": [
    {
     "data": {
      "text/plain": [
       "True"
      ]
     },
     "execution_count": 16,
     "metadata": {},
     "output_type": "execute_result"
    }
   ],
   "source": [
    "res.ok"
   ]
  },
  {
   "cell_type": "raw",
   "metadata": {},
   "source": []
  },
  {
   "cell_type": "markdown",
   "metadata": {},
   "source": [
    "### Investing the response"
   ]
  },
  {
   "cell_type": "code",
   "execution_count": 10,
   "metadata": {},
   "outputs": [
    {
     "data": {
      "text/plain": [
       "True"
      ]
     },
     "execution_count": 10,
     "metadata": {},
     "output_type": "execute_result"
    }
   ],
   "source": [
    "response.ok"
   ]
  },
  {
   "cell_type": "code",
   "execution_count": 11,
   "metadata": {
    "scrolled": true
   },
   "outputs": [
    {
     "data": {
      "text/plain": [
       "200"
      ]
     },
     "execution_count": 11,
     "metadata": {},
     "output_type": "execute_result"
    }
   ],
   "source": [
    "response.status_code"
   ]
  },
  {
   "cell_type": "code",
   "execution_count": 12,
   "metadata": {},
   "outputs": [
    {
     "data": {
      "text/plain": [
       "'{\"success\":true,\"timestamp\":1618504986,\"base\":\"EUR\",\"date\":\"2021-04-15\",\"rates\":{\"AED\":4.398174,\"AFN\":92.86221,\"ALL\":123.217758,\"AMD\":624.103359,\"ANG\":2.148707,\"AOA\":775.599043,\"ARS\":111.027321,\"AUD\":1.545137,\"AWG\":2.156009,\"AZN\":2.03829,\"BAM\":1.957186,\"BBD\":2.416995,\"BDT\":101.5021,\"BGN\":1.957631,\"BHD\":0.451458,\"BIF\":2354.186524,\"BMD\":1.19745,\"BND\":1.598194,\"BOB\":8.265459,\"BRL\":6.72524,\"BSD\":1.19704,\"BTC\":1.9130443e-5,\"BTN\":89.71663,\"BWP\":12.969297,\"BYN\":3.122538,\"BYR\":23470.018249,\"BZD\":2.412892,\"CAD\":1.501662,\"CDF\":2392.504707,\"CHF\":1.104205,\"CLF\":0.030343,\"CLP\":837.492192,\"CNY\":7.810728,\"COP\":4336.157719,\"CRC\":733.924787,\"CUC\":1.19745,\"CUP\":31.732423,\"CVE\":110.614441,\"CZK\":25.910182,\"DJF\":213.107697,\"DKK\":7.438198,\"DOP\":68.230528,\"DZD\":158.387033,\"EGP\":18.77111,\"ERN\":17.964037,\"ETB\":49.532543,\"EUR\":1,\"FJD\":2.458959,\"FKP\":0.869798,\"GBP\":0.86857,\"GEL\":4.113225,\"GGP\":0.869798,\"GHS\":6.927276,\"GIP\":0.869798,\"GMD\":61.129575,\"GNF\":11980.48631,\"GTQ\":9.23828,\"GYD\":250.441481,\"HKD\":9.301132,\"HNL\":28.882881,\"HRK\":7.563124,\"HTG\":97.798598,\"HUF\":359.396611,\"IDR\":17425.111483,\"ILS\":3.927758,\"IMP\":0.869798,\"INR\":89.486506,\"IQD\":1751.270494,\"IRR\":50418.628609,\"ISK\":151.705134,\"JEP\":0.869798,\"JMD\":179.797858,\"JOD\":0.849006,\"JPY\":130.181972,\"KES\":128.186945,\"KGS\":101.519877,\"KHR\":4849.672253,\"KMF\":492.331845,\"KPW\":1077.70515,\"KRW\":1334.641956,\"KWD\":0.360971,\"KYD\":0.9975,\"KZT\":517.064041,\"LAK\":11285.965628,\"LBP\":1826.219936,\"LKR\":240.602944,\"LRD\":206.73946,\"LSL\":17.243684,\"LTL\":3.535758,\"LVL\":0.724326,\"LYD\":5.382586,\"MAD\":10.702207,\"MDL\":21.378938,\"MGA\":4526.360609,\"MKD\":61.657733,\"MMK\":1687.811968,\"MNT\":3413.513443,\"MOP\":9.577658,\"MRO\":427.489412,\"MUR\":49.337301,\"MVR\":18.561932,\"MWK\":939.998469,\"MXN\":23.877043,\"MYR\":4.938884,\"MZN\":73.855959,\"NAD\":17.250055,\"NGN\":456.228192,\"NIO\":42.028421,\"NOK\":10.036666,\"NPR\":143.546288,\"NZD\":1.669598,\"OMR\":0.461002,\"PAB\":1.19704,\"PEN\":4.347336,\"PGK\":4.232973,\"PHP\":57.97993,\"PKR\":182.96699,\"PLN\":4.551376,\"PYG\":7539.962718,\"QAR\":4.359948,\"RON\":4.927753,\"RSD\":117.65154,\"RUB\":91.330104,\"RWF\":1173.500912,\"SAR\":4.491113,\"SBD\":9.549534,\"SCR\":16.733868,\"SDG\":456.228358,\"SEK\":10.114258,\"SGD\":1.597961,\"SHP\":0.869798,\"SLL\":12249.912438,\"SOS\":701.705275,\"SRD\":16.948718,\"STD\":24822.104483,\"SVC\":10.474347,\"SYP\":1505.873982,\"SZL\":17.2476,\"THB\":37.270651,\"TJS\":13.648545,\"TMT\":4.191075,\"TND\":3.308584,\"TOP\":2.71875,\"TRY\":9.611793,\"TTD\":8.142411,\"TWD\":33.934543,\"TZS\":2775.899662,\"UAH\":33.472219,\"UGX\":4333.303261,\"USD\":1.19745,\"UYU\":53.016301,\"UZS\":12581.606258,\"VEF\":256050980637.3222,\"VND\":27630.557964,\"VUV\":131.167302,\"WST\":3.031616,\"XAF\":656.406451,\"XAG\":0.046169,\"XAU\":0.000677,\"XCD\":3.236169,\"XDR\":0.838374,\"XOF\":655.598065,\"XPF\":119.745175,\"YER\":299.781905,\"ZAR\":16.987263,\"ZMK\":10778.484329,\"ZMW\":26.562531,\"ZWL\":385.579105}}'"
      ]
     },
     "execution_count": 12,
     "metadata": {},
     "output_type": "execute_result"
    }
   ],
   "source": [
    "response.text"
   ]
  },
  {
   "cell_type": "code",
   "execution_count": 13,
   "metadata": {},
   "outputs": [
    {
     "data": {
      "text/plain": [
       "b'{\"success\":true,\"timestamp\":1618504986,\"base\":\"EUR\",\"date\":\"2021-04-15\",\"rates\":{\"AED\":4.398174,\"AFN\":92.86221,\"ALL\":123.217758,\"AMD\":624.103359,\"ANG\":2.148707,\"AOA\":775.599043,\"ARS\":111.027321,\"AUD\":1.545137,\"AWG\":2.156009,\"AZN\":2.03829,\"BAM\":1.957186,\"BBD\":2.416995,\"BDT\":101.5021,\"BGN\":1.957631,\"BHD\":0.451458,\"BIF\":2354.186524,\"BMD\":1.19745,\"BND\":1.598194,\"BOB\":8.265459,\"BRL\":6.72524,\"BSD\":1.19704,\"BTC\":1.9130443e-5,\"BTN\":89.71663,\"BWP\":12.969297,\"BYN\":3.122538,\"BYR\":23470.018249,\"BZD\":2.412892,\"CAD\":1.501662,\"CDF\":2392.504707,\"CHF\":1.104205,\"CLF\":0.030343,\"CLP\":837.492192,\"CNY\":7.810728,\"COP\":4336.157719,\"CRC\":733.924787,\"CUC\":1.19745,\"CUP\":31.732423,\"CVE\":110.614441,\"CZK\":25.910182,\"DJF\":213.107697,\"DKK\":7.438198,\"DOP\":68.230528,\"DZD\":158.387033,\"EGP\":18.77111,\"ERN\":17.964037,\"ETB\":49.532543,\"EUR\":1,\"FJD\":2.458959,\"FKP\":0.869798,\"GBP\":0.86857,\"GEL\":4.113225,\"GGP\":0.869798,\"GHS\":6.927276,\"GIP\":0.869798,\"GMD\":61.129575,\"GNF\":11980.48631,\"GTQ\":9.23828,\"GYD\":250.441481,\"HKD\":9.301132,\"HNL\":28.882881,\"HRK\":7.563124,\"HTG\":97.798598,\"HUF\":359.396611,\"IDR\":17425.111483,\"ILS\":3.927758,\"IMP\":0.869798,\"INR\":89.486506,\"IQD\":1751.270494,\"IRR\":50418.628609,\"ISK\":151.705134,\"JEP\":0.869798,\"JMD\":179.797858,\"JOD\":0.849006,\"JPY\":130.181972,\"KES\":128.186945,\"KGS\":101.519877,\"KHR\":4849.672253,\"KMF\":492.331845,\"KPW\":1077.70515,\"KRW\":1334.641956,\"KWD\":0.360971,\"KYD\":0.9975,\"KZT\":517.064041,\"LAK\":11285.965628,\"LBP\":1826.219936,\"LKR\":240.602944,\"LRD\":206.73946,\"LSL\":17.243684,\"LTL\":3.535758,\"LVL\":0.724326,\"LYD\":5.382586,\"MAD\":10.702207,\"MDL\":21.378938,\"MGA\":4526.360609,\"MKD\":61.657733,\"MMK\":1687.811968,\"MNT\":3413.513443,\"MOP\":9.577658,\"MRO\":427.489412,\"MUR\":49.337301,\"MVR\":18.561932,\"MWK\":939.998469,\"MXN\":23.877043,\"MYR\":4.938884,\"MZN\":73.855959,\"NAD\":17.250055,\"NGN\":456.228192,\"NIO\":42.028421,\"NOK\":10.036666,\"NPR\":143.546288,\"NZD\":1.669598,\"OMR\":0.461002,\"PAB\":1.19704,\"PEN\":4.347336,\"PGK\":4.232973,\"PHP\":57.97993,\"PKR\":182.96699,\"PLN\":4.551376,\"PYG\":7539.962718,\"QAR\":4.359948,\"RON\":4.927753,\"RSD\":117.65154,\"RUB\":91.330104,\"RWF\":1173.500912,\"SAR\":4.491113,\"SBD\":9.549534,\"SCR\":16.733868,\"SDG\":456.228358,\"SEK\":10.114258,\"SGD\":1.597961,\"SHP\":0.869798,\"SLL\":12249.912438,\"SOS\":701.705275,\"SRD\":16.948718,\"STD\":24822.104483,\"SVC\":10.474347,\"SYP\":1505.873982,\"SZL\":17.2476,\"THB\":37.270651,\"TJS\":13.648545,\"TMT\":4.191075,\"TND\":3.308584,\"TOP\":2.71875,\"TRY\":9.611793,\"TTD\":8.142411,\"TWD\":33.934543,\"TZS\":2775.899662,\"UAH\":33.472219,\"UGX\":4333.303261,\"USD\":1.19745,\"UYU\":53.016301,\"UZS\":12581.606258,\"VEF\":256050980637.3222,\"VND\":27630.557964,\"VUV\":131.167302,\"WST\":3.031616,\"XAF\":656.406451,\"XAG\":0.046169,\"XAU\":0.000677,\"XCD\":3.236169,\"XDR\":0.838374,\"XOF\":655.598065,\"XPF\":119.745175,\"YER\":299.781905,\"ZAR\":16.987263,\"ZMK\":10778.484329,\"ZMW\":26.562531,\"ZWL\":385.579105}}'"
      ]
     },
     "execution_count": 13,
     "metadata": {},
     "output_type": "execute_result"
    }
   ],
   "source": [
    "response.content"
   ]
  },
  {
   "cell_type": "markdown",
   "metadata": {},
   "source": [
    "### Handling  the JSON"
   ]
  },
  {
   "cell_type": "code",
   "execution_count": 14,
   "metadata": {},
   "outputs": [
    {
     "data": {
      "text/plain": [
       "{'success': True,\n",
       " 'timestamp': 1618504986,\n",
       " 'base': 'EUR',\n",
       " 'date': '2021-04-15',\n",
       " 'rates': {'AED': 4.398174,\n",
       "  'AFN': 92.86221,\n",
       "  'ALL': 123.217758,\n",
       "  'AMD': 624.103359,\n",
       "  'ANG': 2.148707,\n",
       "  'AOA': 775.599043,\n",
       "  'ARS': 111.027321,\n",
       "  'AUD': 1.545137,\n",
       "  'AWG': 2.156009,\n",
       "  'AZN': 2.03829,\n",
       "  'BAM': 1.957186,\n",
       "  'BBD': 2.416995,\n",
       "  'BDT': 101.5021,\n",
       "  'BGN': 1.957631,\n",
       "  'BHD': 0.451458,\n",
       "  'BIF': 2354.186524,\n",
       "  'BMD': 1.19745,\n",
       "  'BND': 1.598194,\n",
       "  'BOB': 8.265459,\n",
       "  'BRL': 6.72524,\n",
       "  'BSD': 1.19704,\n",
       "  'BTC': 1.9130443e-05,\n",
       "  'BTN': 89.71663,\n",
       "  'BWP': 12.969297,\n",
       "  'BYN': 3.122538,\n",
       "  'BYR': 23470.018249,\n",
       "  'BZD': 2.412892,\n",
       "  'CAD': 1.501662,\n",
       "  'CDF': 2392.504707,\n",
       "  'CHF': 1.104205,\n",
       "  'CLF': 0.030343,\n",
       "  'CLP': 837.492192,\n",
       "  'CNY': 7.810728,\n",
       "  'COP': 4336.157719,\n",
       "  'CRC': 733.924787,\n",
       "  'CUC': 1.19745,\n",
       "  'CUP': 31.732423,\n",
       "  'CVE': 110.614441,\n",
       "  'CZK': 25.910182,\n",
       "  'DJF': 213.107697,\n",
       "  'DKK': 7.438198,\n",
       "  'DOP': 68.230528,\n",
       "  'DZD': 158.387033,\n",
       "  'EGP': 18.77111,\n",
       "  'ERN': 17.964037,\n",
       "  'ETB': 49.532543,\n",
       "  'EUR': 1,\n",
       "  'FJD': 2.458959,\n",
       "  'FKP': 0.869798,\n",
       "  'GBP': 0.86857,\n",
       "  'GEL': 4.113225,\n",
       "  'GGP': 0.869798,\n",
       "  'GHS': 6.927276,\n",
       "  'GIP': 0.869798,\n",
       "  'GMD': 61.129575,\n",
       "  'GNF': 11980.48631,\n",
       "  'GTQ': 9.23828,\n",
       "  'GYD': 250.441481,\n",
       "  'HKD': 9.301132,\n",
       "  'HNL': 28.882881,\n",
       "  'HRK': 7.563124,\n",
       "  'HTG': 97.798598,\n",
       "  'HUF': 359.396611,\n",
       "  'IDR': 17425.111483,\n",
       "  'ILS': 3.927758,\n",
       "  'IMP': 0.869798,\n",
       "  'INR': 89.486506,\n",
       "  'IQD': 1751.270494,\n",
       "  'IRR': 50418.628609,\n",
       "  'ISK': 151.705134,\n",
       "  'JEP': 0.869798,\n",
       "  'JMD': 179.797858,\n",
       "  'JOD': 0.849006,\n",
       "  'JPY': 130.181972,\n",
       "  'KES': 128.186945,\n",
       "  'KGS': 101.519877,\n",
       "  'KHR': 4849.672253,\n",
       "  'KMF': 492.331845,\n",
       "  'KPW': 1077.70515,\n",
       "  'KRW': 1334.641956,\n",
       "  'KWD': 0.360971,\n",
       "  'KYD': 0.9975,\n",
       "  'KZT': 517.064041,\n",
       "  'LAK': 11285.965628,\n",
       "  'LBP': 1826.219936,\n",
       "  'LKR': 240.602944,\n",
       "  'LRD': 206.73946,\n",
       "  'LSL': 17.243684,\n",
       "  'LTL': 3.535758,\n",
       "  'LVL': 0.724326,\n",
       "  'LYD': 5.382586,\n",
       "  'MAD': 10.702207,\n",
       "  'MDL': 21.378938,\n",
       "  'MGA': 4526.360609,\n",
       "  'MKD': 61.657733,\n",
       "  'MMK': 1687.811968,\n",
       "  'MNT': 3413.513443,\n",
       "  'MOP': 9.577658,\n",
       "  'MRO': 427.489412,\n",
       "  'MUR': 49.337301,\n",
       "  'MVR': 18.561932,\n",
       "  'MWK': 939.998469,\n",
       "  'MXN': 23.877043,\n",
       "  'MYR': 4.938884,\n",
       "  'MZN': 73.855959,\n",
       "  'NAD': 17.250055,\n",
       "  'NGN': 456.228192,\n",
       "  'NIO': 42.028421,\n",
       "  'NOK': 10.036666,\n",
       "  'NPR': 143.546288,\n",
       "  'NZD': 1.669598,\n",
       "  'OMR': 0.461002,\n",
       "  'PAB': 1.19704,\n",
       "  'PEN': 4.347336,\n",
       "  'PGK': 4.232973,\n",
       "  'PHP': 57.97993,\n",
       "  'PKR': 182.96699,\n",
       "  'PLN': 4.551376,\n",
       "  'PYG': 7539.962718,\n",
       "  'QAR': 4.359948,\n",
       "  'RON': 4.927753,\n",
       "  'RSD': 117.65154,\n",
       "  'RUB': 91.330104,\n",
       "  'RWF': 1173.500912,\n",
       "  'SAR': 4.491113,\n",
       "  'SBD': 9.549534,\n",
       "  'SCR': 16.733868,\n",
       "  'SDG': 456.228358,\n",
       "  'SEK': 10.114258,\n",
       "  'SGD': 1.597961,\n",
       "  'SHP': 0.869798,\n",
       "  'SLL': 12249.912438,\n",
       "  'SOS': 701.705275,\n",
       "  'SRD': 16.948718,\n",
       "  'STD': 24822.104483,\n",
       "  'SVC': 10.474347,\n",
       "  'SYP': 1505.873982,\n",
       "  'SZL': 17.2476,\n",
       "  'THB': 37.270651,\n",
       "  'TJS': 13.648545,\n",
       "  'TMT': 4.191075,\n",
       "  'TND': 3.308584,\n",
       "  'TOP': 2.71875,\n",
       "  'TRY': 9.611793,\n",
       "  'TTD': 8.142411,\n",
       "  'TWD': 33.934543,\n",
       "  'TZS': 2775.899662,\n",
       "  'UAH': 33.472219,\n",
       "  'UGX': 4333.303261,\n",
       "  'USD': 1.19745,\n",
       "  'UYU': 53.016301,\n",
       "  'UZS': 12581.606258,\n",
       "  'VEF': 256050980637.3222,\n",
       "  'VND': 27630.557964,\n",
       "  'VUV': 131.167302,\n",
       "  'WST': 3.031616,\n",
       "  'XAF': 656.406451,\n",
       "  'XAG': 0.046169,\n",
       "  'XAU': 0.000677,\n",
       "  'XCD': 3.236169,\n",
       "  'XDR': 0.838374,\n",
       "  'XOF': 655.598065,\n",
       "  'XPF': 119.745175,\n",
       "  'YER': 299.781905,\n",
       "  'ZAR': 16.987263,\n",
       "  'ZMK': 10778.484329,\n",
       "  'ZMW': 26.562531,\n",
       "  'ZWL': 385.579105}}"
      ]
     },
     "execution_count": 14,
     "metadata": {},
     "output_type": "execute_result"
    }
   ],
   "source": [
    "response.json()"
   ]
  },
  {
   "cell_type": "code",
   "execution_count": 147,
   "metadata": {},
   "outputs": [
    {
     "data": {
      "text/plain": [
       "dict"
      ]
     },
     "execution_count": 147,
     "metadata": {},
     "output_type": "execute_result"
    }
   ],
   "source": [
    "type(response.json())"
   ]
  },
  {
   "cell_type": "code",
   "execution_count": 148,
   "metadata": {},
   "outputs": [],
   "source": [
    "import json"
   ]
  },
  {
   "cell_type": "code",
   "execution_count": 150,
   "metadata": {},
   "outputs": [
    {
     "data": {
      "text/plain": [
       "'{\\n    \"success\": true,\\n    \"timestamp\": 1618336686,\\n    \"base\": \"EUR\",\\n    \"date\": \"2021-04-13\",\\n    \"rates\": {\\n        \"AED\": 4.386425,\\n        \"AFN\": 92.678985,\\n        \"ALL\": 123.183651,\\n        \"AMD\": 620.316456,\\n        \"ANG\": 2.143619,\\n        \"AOA\": 757.664091,\\n        \"ARS\": 110.612584,\\n        \"AUD\": 1.563511,\\n        \"AWG\": 2.149605,\\n        \"AZN\": 2.03088,\\n        \"BAM\": 1.96416,\\n        \"BBD\": 2.411267,\\n        \"BDT\": 101.263077,\\n        \"BGN\": 1.956087,\\n        \"BHD\": 0.450183,\\n        \"BIF\": 2347.846348,\\n        \"BMD\": 1.194225,\\n        \"BND\": 1.602912,\\n        \"BOB\": 8.234026,\\n        \"BRL\": 6.775438,\\n        \"BSD\": 1.194185,\\n        \"BTC\": 1.8866644e-05,\\n        \"BTN\": 90.035516,\\n        \"BWP\": 13.080095,\\n        \"BYN\": 3.149484,\\n        \"BYR\": 23406.809979,\\n        \"BZD\": 2.40715,\\n        \"CAD\": 1.497624,\\n        \"CDF\": 2386.061634,\\n        \"CHF\": 1.099702,\\n        \"CLF\": 0.030629,\\n        \"CLP\": 844.921257,\\n        \"CNY\": 7.815122,\\n        \"COP\": 4379.485801,\\n        \"CRC\": 732.177605,\\n        \"CUC\": 1.194225,\\n        \"CUP\": 31.646962,\\n        \"CVE\": 110.821353,\\n        \"CZK\": 25.910149,\\n        \"DJF\": 212.237891,\\n        \"DKK\": 7.437084,\\n        \"DOP\": 68.010947,\\n        \"DZD\": 158.031742,\\n        \"EGP\": 18.736203,\\n        \"ERN\": 17.915443,\\n        \"ETB\": 49.411069,\\n        \"EUR\": 1,\\n        \"FJD\": 2.467568,\\n        \"FKP\": 0.869334,\\n        \"GBP\": 0.86896,\\n        \"GEL\": 4.090252,\\n        \"GGP\": 0.869334,\\n        \"GHS\": 6.908588,\\n        \"GIP\": 0.869334,\\n        \"GMD\": 60.964611,\\n        \"GNF\": 11948.221751,\\n        \"GTQ\": 9.216343,\\n        \"GYD\": 250.555815,\\n        \"HKD\": 9.283696,\\n        \"HNL\": 28.810723,\\n        \"HRK\": 7.568642,\\n        \"HTG\": 97.567441,\\n        \"HUF\": 359.37814,\\n        \"IDR\": 17465.600321,\\n        \"ILS\": 3.933073,\\n        \"IMP\": 0.869334,\\n        \"INR\": 89.836233,\\n        \"IQD\": 1745.359836,\\n        \"IRR\": 50282.843639,\\n        \"ISK\": 151.702265,\\n        \"JEP\": 0.869334,\\n        \"JMD\": 176.742829,\\n        \"JOD\": 0.846707,\\n        \"JPY\": 130.277407,\\n        \"KES\": 127.666086,\\n        \"KGS\": 101.259894,\\n        \"KHR\": 4830.639983,\\n        \"KMF\": 492.767113,\\n        \"KPW\": 1074.803299,\\n        \"KRW\": 1340.314685,\\n        \"KWD\": 0.360274,\\n        \"KYD\": 0.995133,\\n        \"KZT\": 518.111777,\\n        \"LAK\": 11249.59896,\\n        \"LBP\": 1820.015239,\\n        \"LKR\": 240.631291,\\n        \"LRD\": 206.116697,\\n        \"LSL\": 17.495299,\\n        \"LTL\": 3.526236,\\n        \"LVL\": 0.722375,\\n        \"LYD\": 5.397979,\\n        \"MAD\": 10.682943,\\n        \"MDL\": 21.36419,\\n        \"MGA\": 4508.199331,\\n        \"MKD\": 61.666379,\\n        \"MMK\": 1683.822099,\\n        \"MNT\": 3403.905207,\\n        \"MOP\": 9.561935,\\n        \"MRO\": 426.338119,\\n        \"MUR\": 48.18668,\\n        \"MVR\": 18.474138,\\n        \"MWK\": 937.466894,\\n        \"MXN\": 23.954983,\\n        \"MYR\": 4.937524,\\n        \"MZN\": 73.791499,\\n        \"NAD\": 17.495831,\\n        \"NGN\": 455.035921,\\n        \"NIO\": 41.869163,\\n        \"NOK\": 10.136624,\\n        \"NPR\": 144.057188,\\n        \"NZD\": 1.694558,\\n        \"OMR\": 0.45977,\\n        \"PAB\": 1.194185,\\n        \"PEN\": 4.315329,\\n        \"PGK\": 4.221557,\\n        \"PHP\": 57.905788,\\n        \"PKR\": 182.537845,\\n        \"PLN\": 4.564101,\\n        \"PYG\": 7456.688069,\\n        \"QAR\": 4.348183,\\n        \"RON\": 4.921998,\\n        \"RSD\": 118.080809,\\n        \"RUB\": 90.648006,\\n        \"RWF\": 1170.340499,\\n        \"SAR\": 4.478479,\\n        \"SBD\": 9.542692,\\n        \"SCR\": 21.524544,\\n        \"SDG\": 455.597773,\\n        \"SEK\": 10.171571,\\n        \"SGD\": 1.601933,\\n        \"SHP\": 0.869334,\\n        \"SLL\": 12210.951176,\\n        \"SOS\": 699.8156,\\n        \"SRD\": 16.903027,\\n        \"STD\": 24733.923633,\\n        \"SVC\": 10.449494,\\n        \"SYP\": 1501.800306,\\n        \"SZL\": 17.495686,\\n        \"THB\": 37.628233,\\n        \"TJS\": 13.616264,\\n        \"TMT\": 4.19173,\\n        \"TND\": 3.296664,\\n        \"TOP\": 2.731307,\\n        \"TRY\": 9.707019,\\n        \"TTD\": 8.107889,\\n        \"TWD\": 33.9849,\\n        \"TZS\": 2769.407828,\\n        \"UAH\": 33.470738,\\n        \"UGX\": 4329.032982,\\n        \"USD\": 1.194225,\\n        \"UYU\": 52.675852,\\n        \"UZS\": 12541.750966,\\n        \"VEF\": 255361397046.3937,\\n        \"VND\": 27551.367838,\\n        \"VUV\": 130.800748,\\n        \"WST\": 3.023124,\\n        \"XAF\": 658.756463,\\n        \"XAG\": 0.04713,\\n        \"XAU\": 0.000684,\\n        \"XCD\": 3.227453,\\n        \"XDR\": 0.83766,\\n        \"XOF\": 658.613644,\\n        \"XPF\": 119.77743,\\n        \"YER\": 298.944375,\\n        \"ZAR\": 17.346417,\\n        \"ZMK\": 10749.412812,\\n        \"ZMW\": 26.481558,\\n        \"ZWL\": 384.540589\\n    }\\n}'"
      ]
     },
     "execution_count": 150,
     "metadata": {},
     "output_type": "execute_result"
    }
   ],
   "source": [
    "json.dumps(response.json(),indent=4)"
   ]
  },
  {
   "cell_type": "code",
   "execution_count": 156,
   "metadata": {},
   "outputs": [
    {
     "name": "stdout",
     "output_type": "stream",
     "text": [
      "{\n",
      "    \"success\": true,\n",
      "    \"timestamp\": 1618336686,\n",
      "    \"base\": \"EUR\",\n",
      "    \"date\": \"2021-04-13\",\n",
      "    \"rates\": {\n",
      "        \"AED\": 4.386425,\n",
      "        \"AFN\": 92.678985,\n",
      "        \"ALL\": 123.183651,\n",
      "        \"AMD\": 620.316456,\n",
      "        \"ANG\": 2.143619,\n",
      "        \"AOA\": 757.664091,\n",
      "        \"ARS\": 110.612584,\n",
      "        \"AUD\": 1.563511,\n",
      "        \"AWG\": 2.149605,\n",
      "        \"AZN\": 2.03088,\n",
      "        \"BAM\": 1.96416,\n",
      "        \"BBD\": 2.411267,\n",
      "        \"BDT\": 101.263077,\n",
      "        \"BGN\": 1.956087,\n",
      "        \"BHD\": 0.450183,\n",
      "        \"BIF\": 2347.846348,\n",
      "        \"BMD\": 1.194225,\n",
      "        \"BND\": 1.602912,\n",
      "        \"BOB\": 8.234026,\n",
      "        \"BRL\": 6.775438,\n",
      "        \"BSD\": 1.194185,\n",
      "        \"BTC\": 1.8866644e-05,\n",
      "        \"BTN\": 90.035516,\n",
      "        \"BWP\": 13.080095,\n",
      "        \"BYN\": 3.149484,\n",
      "        \"BYR\": 23406.809979,\n",
      "        \"BZD\": 2.40715,\n",
      "        \"CAD\": 1.497624,\n",
      "        \"CDF\": 2386.061634,\n",
      "        \"CHF\": 1.099702,\n",
      "        \"CLF\": 0.030629,\n",
      "        \"CLP\": 844.921257,\n",
      "        \"CNY\": 7.815122,\n",
      "        \"COP\": 4379.485801,\n",
      "        \"CRC\": 732.177605,\n",
      "        \"CUC\": 1.194225,\n",
      "        \"CUP\": 31.646962,\n",
      "        \"CVE\": 110.821353,\n",
      "        \"CZK\": 25.910149,\n",
      "        \"DJF\": 212.237891,\n",
      "        \"DKK\": 7.437084,\n",
      "        \"DOP\": 68.010947,\n",
      "        \"DZD\": 158.031742,\n",
      "        \"EGP\": 18.736203,\n",
      "        \"ERN\": 17.915443,\n",
      "        \"ETB\": 49.411069,\n",
      "        \"EUR\": 1,\n",
      "        \"FJD\": 2.467568,\n",
      "        \"FKP\": 0.869334,\n",
      "        \"GBP\": 0.86896,\n",
      "        \"GEL\": 4.090252,\n",
      "        \"GGP\": 0.869334,\n",
      "        \"GHS\": 6.908588,\n",
      "        \"GIP\": 0.869334,\n",
      "        \"GMD\": 60.964611,\n",
      "        \"GNF\": 11948.221751,\n",
      "        \"GTQ\": 9.216343,\n",
      "        \"GYD\": 250.555815,\n",
      "        \"HKD\": 9.283696,\n",
      "        \"HNL\": 28.810723,\n",
      "        \"HRK\": 7.568642,\n",
      "        \"HTG\": 97.567441,\n",
      "        \"HUF\": 359.37814,\n",
      "        \"IDR\": 17465.600321,\n",
      "        \"ILS\": 3.933073,\n",
      "        \"IMP\": 0.869334,\n",
      "        \"INR\": 89.836233,\n",
      "        \"IQD\": 1745.359836,\n",
      "        \"IRR\": 50282.843639,\n",
      "        \"ISK\": 151.702265,\n",
      "        \"JEP\": 0.869334,\n",
      "        \"JMD\": 176.742829,\n",
      "        \"JOD\": 0.846707,\n",
      "        \"JPY\": 130.277407,\n",
      "        \"KES\": 127.666086,\n",
      "        \"KGS\": 101.259894,\n",
      "        \"KHR\": 4830.639983,\n",
      "        \"KMF\": 492.767113,\n",
      "        \"KPW\": 1074.803299,\n",
      "        \"KRW\": 1340.314685,\n",
      "        \"KWD\": 0.360274,\n",
      "        \"KYD\": 0.995133,\n",
      "        \"KZT\": 518.111777,\n",
      "        \"LAK\": 11249.59896,\n",
      "        \"LBP\": 1820.015239,\n",
      "        \"LKR\": 240.631291,\n",
      "        \"LRD\": 206.116697,\n",
      "        \"LSL\": 17.495299,\n",
      "        \"LTL\": 3.526236,\n",
      "        \"LVL\": 0.722375,\n",
      "        \"LYD\": 5.397979,\n",
      "        \"MAD\": 10.682943,\n",
      "        \"MDL\": 21.36419,\n",
      "        \"MGA\": 4508.199331,\n",
      "        \"MKD\": 61.666379,\n",
      "        \"MMK\": 1683.822099,\n",
      "        \"MNT\": 3403.905207,\n",
      "        \"MOP\": 9.561935,\n",
      "        \"MRO\": 426.338119,\n",
      "        \"MUR\": 48.18668,\n",
      "        \"MVR\": 18.474138,\n",
      "        \"MWK\": 937.466894,\n",
      "        \"MXN\": 23.954983,\n",
      "        \"MYR\": 4.937524,\n",
      "        \"MZN\": 73.791499,\n",
      "        \"NAD\": 17.495831,\n",
      "        \"NGN\": 455.035921,\n",
      "        \"NIO\": 41.869163,\n",
      "        \"NOK\": 10.136624,\n",
      "        \"NPR\": 144.057188,\n",
      "        \"NZD\": 1.694558,\n",
      "        \"OMR\": 0.45977,\n",
      "        \"PAB\": 1.194185,\n",
      "        \"PEN\": 4.315329,\n",
      "        \"PGK\": 4.221557,\n",
      "        \"PHP\": 57.905788,\n",
      "        \"PKR\": 182.537845,\n",
      "        \"PLN\": 4.564101,\n",
      "        \"PYG\": 7456.688069,\n",
      "        \"QAR\": 4.348183,\n",
      "        \"RON\": 4.921998,\n",
      "        \"RSD\": 118.080809,\n",
      "        \"RUB\": 90.648006,\n",
      "        \"RWF\": 1170.340499,\n",
      "        \"SAR\": 4.478479,\n",
      "        \"SBD\": 9.542692,\n",
      "        \"SCR\": 21.524544,\n",
      "        \"SDG\": 455.597773,\n",
      "        \"SEK\": 10.171571,\n",
      "        \"SGD\": 1.601933,\n",
      "        \"SHP\": 0.869334,\n",
      "        \"SLL\": 12210.951176,\n",
      "        \"SOS\": 699.8156,\n",
      "        \"SRD\": 16.903027,\n",
      "        \"STD\": 24733.923633,\n",
      "        \"SVC\": 10.449494,\n",
      "        \"SYP\": 1501.800306,\n",
      "        \"SZL\": 17.495686,\n",
      "        \"THB\": 37.628233,\n",
      "        \"TJS\": 13.616264,\n",
      "        \"TMT\": 4.19173,\n",
      "        \"TND\": 3.296664,\n",
      "        \"TOP\": 2.731307,\n",
      "        \"TRY\": 9.707019,\n",
      "        \"TTD\": 8.107889,\n",
      "        \"TWD\": 33.9849,\n",
      "        \"TZS\": 2769.407828,\n",
      "        \"UAH\": 33.470738,\n",
      "        \"UGX\": 4329.032982,\n",
      "        \"USD\": 1.194225,\n",
      "        \"UYU\": 52.675852,\n",
      "        \"UZS\": 12541.750966,\n",
      "        \"VEF\": 255361397046.3937,\n",
      "        \"VND\": 27551.367838,\n",
      "        \"VUV\": 130.800748,\n",
      "        \"WST\": 3.023124,\n",
      "        \"XAF\": 658.756463,\n",
      "        \"XAG\": 0.04713,\n",
      "        \"XAU\": 0.000684,\n",
      "        \"XCD\": 3.227453,\n",
      "        \"XDR\": 0.83766,\n",
      "        \"XOF\": 658.613644,\n",
      "        \"XPF\": 119.77743,\n",
      "        \"YER\": 298.944375,\n",
      "        \"ZAR\": 17.346417,\n",
      "        \"ZMK\": 10749.412812,\n",
      "        \"ZMW\": 26.481558,\n",
      "        \"ZWL\": 384.540589\n",
      "    }\n",
      "}\n"
     ]
    }
   ],
   "source": [
    "print(json.dumps(response.json(),indent=4))"
   ]
  },
  {
   "cell_type": "code",
   "execution_count": 157,
   "metadata": {},
   "outputs": [
    {
     "data": {
      "text/plain": [
       "dict_keys(['success', 'timestamp', 'base', 'date', 'rates'])"
      ]
     },
     "execution_count": 157,
     "metadata": {},
     "output_type": "execute_result"
    }
   ],
   "source": [
    "response.json().keys()"
   ]
  },
  {
   "cell_type": "code",
   "execution_count": 164,
   "metadata": {},
   "outputs": [],
   "source": [
    "base_url = 'http://api.exchangeratesapi.io/v1/latest?access_key=b5311217c411d6ee4c79ba55e9d77988&symbols=GBP,JPY,EUR'"
   ]
  },
  {
   "cell_type": "code",
   "execution_count": 166,
   "metadata": {},
   "outputs": [],
   "source": [
    "response = req.get(base_url)\n",
    "data=response.json()"
   ]
  },
  {
   "cell_type": "code",
   "execution_count": 167,
   "metadata": {},
   "outputs": [
    {
     "data": {
      "text/plain": [
       "'2021-04-13'"
      ]
     },
     "execution_count": 167,
     "metadata": {},
     "output_type": "execute_result"
    }
   ],
   "source": [
    "data['date']"
   ]
  },
  {
   "cell_type": "code",
   "execution_count": 174,
   "metadata": {},
   "outputs": [
    {
     "data": {
      "text/plain": [
       "{'GBP': 0.868551, 'JPY': 130.300225, 'EUR': 1}"
      ]
     },
     "execution_count": 174,
     "metadata": {},
     "output_type": "execute_result"
    }
   ],
   "source": [
    "data['rates']"
   ]
  },
  {
   "cell_type": "code",
   "execution_count": 175,
   "metadata": {},
   "outputs": [
    {
     "data": {
      "text/plain": [
       "130.300225"
      ]
     },
     "execution_count": 175,
     "metadata": {},
     "output_type": "execute_result"
    }
   ],
   "source": [
    "data['rates']['JPY']"
   ]
  },
  {
   "cell_type": "code",
   "execution_count": null,
   "metadata": {},
   "outputs": [],
   "source": []
  }
 ],
 "metadata": {
  "kernelspec": {
   "display_name": "Python 3",
   "language": "python",
   "name": "python3"
  },
  "language_info": {
   "codemirror_mode": {
    "name": "ipython",
    "version": 3
   },
   "file_extension": ".py",
   "mimetype": "text/x-python",
   "name": "python",
   "nbconvert_exporter": "python",
   "pygments_lexer": "ipython3",
   "version": "3.8.5"
  }
 },
 "nbformat": 4,
 "nbformat_minor": 4
}
